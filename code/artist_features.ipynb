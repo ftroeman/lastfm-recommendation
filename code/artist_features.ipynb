{
 "cells": [
  {
   "cell_type": "markdown",
   "metadata": {},
   "source": [
    "## Obtaining Artist Features Using Last.fm API"
   ]
  },
  {
   "cell_type": "code",
   "execution_count": null,
   "metadata": {},
   "outputs": [],
   "source": [
    "# Import necessary modules\n",
    "import pandas as pd\n",
    "import numpy as np\n",
    "import pylast"
   ]
  },
  {
   "cell_type": "code",
   "execution_count": null,
   "metadata": {},
   "outputs": [],
   "source": [
    "# Read CSV of user-artist interactions\n",
    "df = pd.read_csv('lastfm_9000_users.csv', na_filter=False)\n",
    "df = df.drop(['Unnamed: 0'], axis=1)\n",
    "\n",
    "# Grab unique users/artist IDS\n",
    "users = list(np.sort(df.user_id.unique()))\n",
    "artists = list(df.artist_mbid.unique())\n",
    "plays = list(df.plays)"
   ]
  },
  {
   "cell_type": "code",
   "execution_count": null,
   "metadata": {},
   "outputs": [],
   "source": [
    "# Enter API and account authentication details for Last.fm\n",
    "API_KEY = \"ENTER API KEY\"\n",
    "API_SECRET = \"ENTER API SECRET\"\n",
    "username = \"ENTER USERNAME\"\n",
    "password_hash = pylast.md5(\"ENTER ACCOUNT PASSWORD\")"
   ]
  },
  {
   "cell_type": "code",
   "execution_count": null,
   "metadata": {},
   "outputs": [],
   "source": [
    "# Connect to API and extract artist info by MBID\n",
    "network = pylast.LastFMNetwork(api_key = API_KEY, api_secret = API_SECRET, \n",
    "                               username = username, password_hash = password_hash)\n",
    "artist = network.get_artist_by_mbid(artists[0])  "
   ]
  },
  {
   "cell_type": "code",
   "execution_count": null,
   "metadata": {},
   "outputs": [],
   "source": [
    "# Initialize dictionaries to store top 5 tags for each artist\n",
    "tag1 = {id:0 for id in artists}\n",
    "tag2 = {id:0 for id in artists}\n",
    "tag3 = {id:0 for id in artists}\n",
    "tag4 = {id:0 for id in artists}\n",
    "tag5 = {id:0 for id in artists}\n",
    "tags_dict = {id:[] for id in artists}"
   ]
  },
  {
   "cell_type": "code",
   "execution_count": null,
   "metadata": {},
   "outputs": [],
   "source": [
    "# Access top tags for each artist through API and store tags in dictionaries\n",
    "for index in artists:\n",
    "    try:\n",
    "        artist = network.get_artist_by_mbid(index)    \n",
    "        toptags = artist.get_top_tags(limit=5)\n",
    "        for i in toptags:\n",
    "            tags_dict[index].append(i[0].get_name())\n",
    "    except:\n",
    "        tags_dict[index].append('')\n",
    "\n",
    "# Fill up empty tags for artists with less than 5 tags \n",
    "for key, item in tags_dict.items():\n",
    "    while len(item) < 5:\n",
    "        item.append('')"
   ]
  },
  {
   "cell_type": "code",
   "execution_count": null,
   "metadata": {},
   "outputs": [],
   "source": [
    "# Create a dataframe of artist_features from acquired tags\n",
    "artist_features=pd.DataFrame.from_dict(tags_dict, orient='index')\n",
    "\n",
    "# One-hot-encode resulting dataframe to be used for LightFM model\n",
    "artist_features = artist_features.stack().str.get_dummies().sum(level=0)"
   ]
  },
  {
   "cell_type": "code",
   "execution_count": null,
   "metadata": {},
   "outputs": [],
   "source": [
    "# Write dataframe to CSV\n",
    "artist_features.to_csv('artist_features_9000.csv')"
   ]
  }
 ],
 "metadata": {
  "kernelspec": {
   "display_name": "Python 3",
   "language": "python",
   "name": "python3"
  },
  "language_info": {
   "codemirror_mode": {
    "name": "ipython",
    "version": 3
   },
   "file_extension": ".py",
   "mimetype": "text/x-python",
   "name": "python",
   "nbconvert_exporter": "python",
   "pygments_lexer": "ipython3",
   "version": "3.7.1"
  }
 },
 "nbformat": 4,
 "nbformat_minor": 2
}
