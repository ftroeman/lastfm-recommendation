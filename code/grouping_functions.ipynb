{
 "cells": [
  {
   "cell_type": "code",
   "execution_count": 1,
   "metadata": {},
   "outputs": [],
   "source": [
    "run analysis_functions.ipynb #import all helper functions"
   ]
  },
  {
   "cell_type": "code",
   "execution_count": 2,
   "metadata": {},
   "outputs": [],
   "source": [
    "def active_users(data, n=5):\n",
    "    \"\"\"\n",
    "    Identifies and returns CSR matrices representing groups of users by activity,\n",
    "    determined by the number of plays they have logged\n",
    "    \n",
    "    Parameters:\n",
    "    - data: csr_matrix (no_users, no_items) with users as rows and items as columns\n",
    "    - n: number of distinct groups (classified by level of activity) to output\n",
    "    \n",
    "    Output:\n",
    "    - groups: an array of CSR matrices representing the users in each activity group\n",
    "    \"\"\"\n",
    "    groups = [[] for i in range(n)]\n",
    "    plays_sum = np.asarray(data.sum(axis=1))\n",
    "    group_range = [np.percentile(plays_sum, [(100/n) * i, (100/n) * (i+1)]) for i in range(n)]\n",
    "\n",
    "    for user in range(data.shape[0]):\n",
    "        for j in range(0, n):\n",
    "            if group_range[j][0] <= plays_sum[user] <= group_range[j][1]:\n",
    "                groups[j].append(data.getrow(user).toarray()[0])\n",
    "\n",
    "    groups = [scipy.sparse.csr_matrix(i) for i in groups]\n",
    "    \n",
    "    return groups"
   ]
  },
  {
   "cell_type": "code",
   "execution_count": 3,
   "metadata": {},
   "outputs": [],
   "source": [
    "def diverse_users(data, n=5):\n",
    "    \"\"\"\n",
    "    Identifies and returns CSR matrices representing groups of users by diversity,\n",
    "    determined by the diversity of artists listened to.\n",
    "    \n",
    "    Diversity of each user is calculated by the spread of listens across all artists played.\n",
    "    \n",
    "    Parameters:\n",
    "    - data: csr_matrix (no_users, no_items) with users as rows and items as columns\n",
    "    - n: number of distinct groups (classified by level of diversity) to output\n",
    "    \n",
    "    Output:\n",
    "    - groups: an array of CSR matrices representing the users in each diversity group\n",
    "    \"\"\"\n",
    "    groups = [[] for i in range(n)]\n",
    "    plays_norm = []\n",
    "    for user in range(0,plays_sparse.shape[0]):\n",
    "        row = plays_sparse.getrow(user).toarray()[0]\n",
    "        plays_norm.append(sum(np.interp(row, (row.min(), row.max()), (0, 1))))\n",
    "    group_range = [np.percentile(plays_norm, [(100/n) * i, (100/n) * (i+1)]) for i in range(n)]\n",
    "    \n",
    "    for user in range(data.shape[0]):\n",
    "        for j in range(0, n):\n",
    "            if group_range[j][0] <= plays_norm[user] <= group_range[j][1]:\n",
    "                groups[j].append(data.getrow(user).toarray()[0])\n",
    "    \n",
    "    groups = [scipy.sparse.csr_matrix(i) for i in groups]\n",
    "    \n",
    "    return groups"
   ]
  },
  {
   "cell_type": "code",
   "execution_count": 4,
   "metadata": {},
   "outputs": [],
   "source": [
    "def mainstream_users(data, top_artists=20, n=5 ):\n",
    "    \"\"\"\n",
    "    Identifies and returns CSR matrices representing the most/least mainstream users,\n",
    "    determined by their weighted listens of popular artists\n",
    "    \n",
    "    Popularity of each artist is calculated by the total plays across all users. Indicator for how\n",
    "    mainstream a user is is computed by the weighted total of listens to the top n artists.\n",
    "    \n",
    "    Parameters:\n",
    "    - data: csr_matrix (no_users, no_items) with users as rows and items as columns\n",
    "    - top_artists: benchmark for an artist to be considered 'popular' e.g. top_artists = 20\n",
    "    means that top 20 artists with most listens are considered mainstream\n",
    "    - n: number of distinct groups (classified by level of diversity) to output\n",
    "    \n",
    "    Output:\n",
    "    - groups: an array of CSR matrices representing the users in each mainstream level group\n",
    "    \"\"\"\n",
    "    groups = [[] for i in range(n)]\n",
    "    artist_sum = np.asarray(data.sum(axis=0))[0]\n",
    "    popular = artist_sum.argsort()[-top_artists:]\n",
    "    weights = list(range(1,top_artists + 1))\n",
    "    score_popular = []\n",
    "    \n",
    "    for user in range(data.shape[0]):\n",
    "        row = data.getrow(user).toarray()[0]\n",
    "        row_scaled = np.interp(row, (row.min(), row.max()), (0, 1))\n",
    "        score_popular.append(np.dot(row_scaled[popular], weights))\n",
    "    group_range = [np.percentile(score_popular, [(100/n) * i, (100/n) * (i+1)]) for i in range(n)]\n",
    "    \n",
    "    for user in range(data.shape[0]):\n",
    "        for j in range(0, n):\n",
    "            if group_range[j][0] <= score_popular[user] <= group_range[j][1]:\n",
    "                groups[j].append(data.getrow(user).toarray()[0])\n",
    "    \n",
    "    groups = [scipy.sparse.csr_matrix(i) for i in groups]\n",
    "    \n",
    "    return groups"
   ]
  }
 ],
 "metadata": {
  "kernelspec": {
   "display_name": "Python 3",
   "language": "python",
   "name": "python3"
  },
  "language_info": {
   "codemirror_mode": {
    "name": "ipython",
    "version": 3
   },
   "file_extension": ".py",
   "mimetype": "text/x-python",
   "name": "python",
   "nbconvert_exporter": "python",
   "pygments_lexer": "ipython3",
   "version": "3.7.1"
  }
 },
 "nbformat": 4,
 "nbformat_minor": 2
}
