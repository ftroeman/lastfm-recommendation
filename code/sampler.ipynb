{
 "cells": [
  {
   "cell_type": "markdown",
   "metadata": {},
   "source": [
    "Method to sample data from the entire lastFM dataset"
   ]
  },
  {
   "cell_type": "code",
   "execution_count": null,
   "metadata": {},
   "outputs": [],
   "source": [
    "import numpy as np\n",
    "import pandas as pd\n",
    "\n",
    "#read in full dataset from https://www.dropbox.com/s/wlhkyz8yn51cpnk/360k_users.zip?dl=0\n",
    "col_names = [\"user_id\",\"artist_mbid\",\"artist_name\",\"plays\"]\n",
    "df = pd.read_csv(\"usersha1-artmbid-artname-plays.tsv\", sep = \"\\t\", header = None, names = col_names)\n"
   ]
  },
  {
   "cell_type": "code",
   "execution_count": null,
   "metadata": {},
   "outputs": [],
   "source": [
    "def get_users(df, n):\n",
    "    \"\"\"\n",
    "    Input:\n",
    "    - df (pd.Dataframe): main dataframe to sample from\n",
    "    - n (int): number of users to sample \n",
    "    \n",
    "    Returns:\n",
    "    - df_sample (pd.Dataframe): sampled dataframe\n",
    "    \"\"\"\n",
    "    sample_userid = df[\"user_id\"].unique()\n",
    "    sample_userid = np.random.choice(sample_userid, size = n, replace = False)\n",
    "\n",
    "    #grab rows with sample user id\n",
    "    df_sample = df[df.user_id.isin(sample_userid)].reset_index(drop = True)\n",
    "\n",
    "    return df_sample"
   ]
  },
  {
   "cell_type": "code",
   "execution_count": null,
   "metadata": {},
   "outputs": [],
   "source": [
    "#remove faulty user_id\n",
    "df = df[df.user_id != \"sep 20, 2008\"]\n",
    "\n",
    "sizes = [9000, 20000, 40000, 60000, 80000]\n",
    "\n",
    "for size in sizes: \n",
    "    get_users(df, size).to_csv(\"lastfm_\" + str(size) + \"_users.csv\")"
   ]
  }
 ],
 "metadata": {
  "kernelspec": {
   "display_name": "Python 3",
   "language": "python",
   "name": "python3"
  },
  "language_info": {
   "codemirror_mode": {
    "name": "ipython",
    "version": 2
   },
   "file_extension": ".py",
   "mimetype": "text/x-python",
   "name": "python",
   "nbconvert_exporter": "python",
   "pygments_lexer": "ipython2",
   "version": "2.7.15"
  }
 },
 "nbformat": 4,
 "nbformat_minor": 2
}
