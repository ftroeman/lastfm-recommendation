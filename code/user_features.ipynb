{
 "cells": [
  {
   "cell_type": "markdown",
   "metadata": {},
   "source": [
    "## Processing User Features From Data"
   ]
  },
  {
   "cell_type": "code",
   "execution_count": 9,
   "metadata": {},
   "outputs": [],
   "source": [
    "# Import necessary modules\n",
    "import pandas as pd\n",
    "import numpy as np"
   ]
  },
  {
   "cell_type": "code",
   "execution_count": 10,
   "metadata": {
    "scrolled": true
   },
   "outputs": [],
   "source": [
    "# Read user profiles into a dataframe\n",
    "col_names = ['id', 'gender', 'age', 'country', 'date']\n",
    "profile = pd.read_csv('usersha1-profile.tsv', sep='\\t', header=None, names=col_names)\n",
    "profile = profile.drop(['date'], axis=1)"
   ]
  },
  {
   "cell_type": "code",
   "execution_count": 11,
   "metadata": {
    "scrolled": true
   },
   "outputs": [],
   "source": [
    "# Read file containing sampled users into a dataframe\n",
    "df = pd.read_csv('lastfm_9000_users.csv', na_filter=False)\n",
    "df = df.drop(['Unnamed: 0'], axis=1)\n",
    "users = list(np.sort(df.user_id.unique()))"
   ]
  },
  {
   "cell_type": "code",
   "execution_count": 12,
   "metadata": {},
   "outputs": [],
   "source": [
    "# Initialize an empty dataframe to store user_features\n",
    "user_features = pd.DataFrame()\n",
    "\n",
    "# Iterate through each user in sample and extract relevant profile information\n",
    "for user in users:\n",
    "    user_features = user_features.append(profile.loc[profile['id'] == user])"
   ]
  },
  {
   "cell_type": "code",
   "execution_count": 15,
   "metadata": {},
   "outputs": [],
   "source": [
    "# One-hot-encode gender variables\n",
    "one_hot_gender = pd.get_dummies(user_features['gender'])\n",
    "user_features = user_features.drop('gender', axis = 1)\n",
    "user_features = user_features.join(one_hot_gender)\n",
    "\n",
    "# One-hot-encode country variables\n",
    "one_hot_country = pd.get_dummies(user_features['country'])\n",
    "user_features = user_features.drop('country', axis = 1)\n",
    "user_features = user_features.join(one_hot_country)\n",
    "\n",
    "# One-hot-encode age variables\n",
    "one_hot_age = pd.get_dummies(user_features['age'])\n",
    "user_features = user_features.drop('age', axis = 1)\n",
    "user_features = user_features.join(one_hot_age)"
   ]
  },
  {
   "cell_type": "code",
   "execution_count": 16,
   "metadata": {},
   "outputs": [],
   "source": [
    "# Drop unrealisitic ages (outside of range 12-97)\n",
    "user_features_clean = user_features.drop([-1337.0,1.0, 2.0, 3.0, 4.0, 6.0, 8.0, 9.0, 10.0, 11.0, 99.0, 100.0, 101.0, 102.0, 103.0, 107.0, 108.0, 109.0], axis=1)"
   ]
  },
  {
   "cell_type": "code",
   "execution_count": 40,
   "metadata": {},
   "outputs": [],
   "source": [
    "# Export processed user features to CSV\n",
    "user_features_clean.to_csv('user_features_9000.csv')"
   ]
  }
 ],
 "metadata": {
  "kernelspec": {
   "display_name": "Python 3",
   "language": "python",
   "name": "python3"
  },
  "language_info": {
   "codemirror_mode": {
    "name": "ipython",
    "version": 3
   },
   "file_extension": ".py",
   "mimetype": "text/x-python",
   "name": "python",
   "nbconvert_exporter": "python",
   "pygments_lexer": "ipython3",
   "version": "3.7.1"
  }
 },
 "nbformat": 4,
 "nbformat_minor": 2
}
